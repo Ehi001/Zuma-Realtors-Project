{
 "cells": [
  {
   "cell_type": "markdown",
   "metadata": {},
   "source": [
    "### STEP 1: Extraction "
   ]
  },
  {
   "cell_type": "markdown",
   "metadata": {},
   "source": [
    "#### 1. Importing Necessary Libraries"
   ]
  },
  {
   "cell_type": "code",
   "execution_count": 7,
   "metadata": {},
   "outputs": [],
   "source": [
    "import requests\n",
    "import pandas as pd\n",
    "import psycopg2\n",
    "import json"
   ]
  },
  {
   "cell_type": "markdown",
   "metadata": {},
   "source": [
    "#### 2. Carry out extraction"
   ]
  },
  {
   "cell_type": "code",
   "execution_count": 4,
   "metadata": {},
   "outputs": [],
   "source": [
    "url = \"https://realty-mole-property-api.p.rapidapi.com/randomProperties\""
   ]
  },
  {
   "cell_type": "code",
   "execution_count": 5,
   "metadata": {},
   "outputs": [],
   "source": [
    "querystring = {\"limit\":\"500\"}\n",
    "\n",
    "headers = {\n",
    "\t\"x-rapidapi-key\": \"60e9afa955msh7936cf92edeb77ap10b4a1jsnbfc9face381e\",\n",
    "\t\"x-rapidapi-host\": \"realty-mole-property-api.p.rapidapi.com\"\n",
    "}\n",
    "response = requests.get(url, headers=headers, params=querystring)"
   ]
  },
  {
   "cell_type": "code",
   "execution_count": 6,
   "metadata": {},
   "outputs": [
    {
     "name": "stdout",
     "output_type": "stream",
     "text": [
      "{'messages': 'The API is unreachable, please contact the API provider', 'info': 'Your Client (working) ---> Gateway (working) ---> API (not working)'}\n"
     ]
    }
   ],
   "source": [
    "print(response.json())"
   ]
  },
  {
   "cell_type": "markdown",
   "metadata": {},
   "source": [
    "The API has been shutdown but the Json file was downloaded before the API shutdown, we will read the JSON file from the folder."
   ]
  },
  {
   "cell_type": "code",
   "execution_count": null,
   "metadata": {},
   "outputs": [],
   "source": [
    "## if the API was working: \n",
    "'''\n",
    "data = response.json()\n",
    "file_name = 'real_estate.json'\n",
    "\n",
    "with open(file_name, 'w') as file:\n",
    "    json.dump(data, file, indent = 4)\n",
    "'''"
   ]
  },
  {
   "cell_type": "code",
   "execution_count": 9,
   "metadata": {},
   "outputs": [
    {
     "data": {
      "text/html": [
       "<div>\n",
       "<style scoped>\n",
       "    .dataframe tbody tr th:only-of-type {\n",
       "        vertical-align: middle;\n",
       "    }\n",
       "\n",
       "    .dataframe tbody tr th {\n",
       "        vertical-align: top;\n",
       "    }\n",
       "\n",
       "    .dataframe thead th {\n",
       "        text-align: right;\n",
       "    }\n",
       "</style>\n",
       "<table border=\"1\" class=\"dataframe\">\n",
       "  <thead>\n",
       "    <tr style=\"text-align: right;\">\n",
       "      <th></th>\n",
       "      <th>addressLine1</th>\n",
       "      <th>city</th>\n",
       "      <th>state</th>\n",
       "      <th>zipCode</th>\n",
       "      <th>formattedAddress</th>\n",
       "      <th>bedrooms</th>\n",
       "      <th>squareFootage</th>\n",
       "      <th>yearBuilt</th>\n",
       "      <th>features</th>\n",
       "      <th>county</th>\n",
       "      <th>...</th>\n",
       "      <th>propertyTaxes</th>\n",
       "      <th>lastSalePrice</th>\n",
       "      <th>lastSaleDate</th>\n",
       "      <th>owner</th>\n",
       "      <th>id</th>\n",
       "      <th>longitude</th>\n",
       "      <th>latitude</th>\n",
       "      <th>subdivision</th>\n",
       "      <th>zoning</th>\n",
       "      <th>addressLine2</th>\n",
       "    </tr>\n",
       "  </thead>\n",
       "  <tbody>\n",
       "    <tr>\n",
       "      <th>0</th>\n",
       "      <td>511 John St</td>\n",
       "      <td>Bryan</td>\n",
       "      <td>OH</td>\n",
       "      <td>43506</td>\n",
       "      <td>511 John St, Bryan, OH 43506</td>\n",
       "      <td>3.0</td>\n",
       "      <td>1404.0</td>\n",
       "      <td>1959.0</td>\n",
       "      <td>{'architectureType': 'Conventional', 'cooling'...</td>\n",
       "      <td>Williams</td>\n",
       "      <td>...</td>\n",
       "      <td>{'2021': {'total': 1799}}</td>\n",
       "      <td>105000.0</td>\n",
       "      <td>2000-10-13T00:00:00.000Z</td>\n",
       "      <td>{'names': ['SUSAN JO KERR'], 'mailingAddress':...</td>\n",
       "      <td>511-John-St,-Bryan,-OH-43506</td>\n",
       "      <td>-84.570163</td>\n",
       "      <td>41.469595</td>\n",
       "      <td>NaN</td>\n",
       "      <td>NaN</td>\n",
       "      <td>NaN</td>\n",
       "    </tr>\n",
       "    <tr>\n",
       "      <th>1</th>\n",
       "      <td>1067 Marlin Dr</td>\n",
       "      <td>Rockledge</td>\n",
       "      <td>FL</td>\n",
       "      <td>32955</td>\n",
       "      <td>1067 Marlin Dr, Rockledge, FL 32955</td>\n",
       "      <td>3.0</td>\n",
       "      <td>2258.0</td>\n",
       "      <td>1966.0</td>\n",
       "      <td>{'cooling': True, 'coolingType': 'Central', 'e...</td>\n",
       "      <td>Brevard</td>\n",
       "      <td>...</td>\n",
       "      <td>{'2021': {'total': 1830}, '2022': {'total': 21...</td>\n",
       "      <td>125000.0</td>\n",
       "      <td>2019-08-13T00:00:00.000Z</td>\n",
       "      <td>{'names': ['GYULA L KISS', 'JULIE A KISS'], 'm...</td>\n",
       "      <td>1067-Marlin-Dr,-Rockledge,-FL-32955</td>\n",
       "      <td>-80.746982</td>\n",
       "      <td>28.342440</td>\n",
       "      <td>MARLIN SUBD</td>\n",
       "      <td>R2</td>\n",
       "      <td>NaN</td>\n",
       "    </tr>\n",
       "    <tr>\n",
       "      <th>2</th>\n",
       "      <td>1136 Sullivan Rd</td>\n",
       "      <td>Ogden</td>\n",
       "      <td>UT</td>\n",
       "      <td>84403</td>\n",
       "      <td>1136 Sullivan Rd, Apt 15, Ogden, UT 84403</td>\n",
       "      <td>NaN</td>\n",
       "      <td>NaN</td>\n",
       "      <td>NaN</td>\n",
       "      <td>{}</td>\n",
       "      <td>Weber</td>\n",
       "      <td>...</td>\n",
       "      <td>NaN</td>\n",
       "      <td>NaN</td>\n",
       "      <td>NaN</td>\n",
       "      <td>NaN</td>\n",
       "      <td>1136-Sullivan-Rd,-Apt-15,-Ogden,-UT-84403</td>\n",
       "      <td>-111.950330</td>\n",
       "      <td>41.204860</td>\n",
       "      <td>NaN</td>\n",
       "      <td>NaN</td>\n",
       "      <td>Apt 15</td>\n",
       "    </tr>\n",
       "    <tr>\n",
       "      <th>3</th>\n",
       "      <td>101 Trinity Lakes Dr</td>\n",
       "      <td>Sun City Center</td>\n",
       "      <td>FL</td>\n",
       "      <td>33573</td>\n",
       "      <td>101 Trinity Lakes Dr, Apt 361, Sun City Center...</td>\n",
       "      <td>NaN</td>\n",
       "      <td>NaN</td>\n",
       "      <td>NaN</td>\n",
       "      <td>{}</td>\n",
       "      <td>Hillsborough</td>\n",
       "      <td>...</td>\n",
       "      <td>NaN</td>\n",
       "      <td>NaN</td>\n",
       "      <td>NaN</td>\n",
       "      <td>NaN</td>\n",
       "      <td>101-Trinity-Lakes-Dr,-Apt-361,-Sun-City-Center...</td>\n",
       "      <td>-82.355936</td>\n",
       "      <td>27.710284</td>\n",
       "      <td>NaN</td>\n",
       "      <td>NaN</td>\n",
       "      <td>Apt 361</td>\n",
       "    </tr>\n",
       "    <tr>\n",
       "      <th>4</th>\n",
       "      <td>7843 S Euclid Ave</td>\n",
       "      <td>Chicago</td>\n",
       "      <td>IL</td>\n",
       "      <td>60649</td>\n",
       "      <td>7843 S Euclid Ave, Apt 1, Chicago, IL 60649</td>\n",
       "      <td>6.0</td>\n",
       "      <td>3345.0</td>\n",
       "      <td>1925.0</td>\n",
       "      <td>{'architectureType': 'Two Family', 'cooling': ...</td>\n",
       "      <td>Cook</td>\n",
       "      <td>...</td>\n",
       "      <td>{'2020': {'total': 2527}}</td>\n",
       "      <td>225000.0</td>\n",
       "      <td>2022-09-23T00:00:00.000Z</td>\n",
       "      <td>{'names': ['78TH EUCLID LLC,'], 'mailingAddres...</td>\n",
       "      <td>7843-S-Euclid-Ave,-Apt-1,-Chicago,-IL-60649</td>\n",
       "      <td>-87.576879</td>\n",
       "      <td>41.752132</td>\n",
       "      <td>SOUTHFIELD</td>\n",
       "      <td>NaN</td>\n",
       "      <td>Apt 1</td>\n",
       "    </tr>\n",
       "  </tbody>\n",
       "</table>\n",
       "<p>5 rows × 27 columns</p>\n",
       "</div>"
      ],
      "text/plain": [
       "           addressLine1             city state  zipCode  \\\n",
       "0           511 John St            Bryan    OH    43506   \n",
       "1        1067 Marlin Dr        Rockledge    FL    32955   \n",
       "2      1136 Sullivan Rd            Ogden    UT    84403   \n",
       "3  101 Trinity Lakes Dr  Sun City Center    FL    33573   \n",
       "4     7843 S Euclid Ave          Chicago    IL    60649   \n",
       "\n",
       "                                    formattedAddress  bedrooms  squareFootage  \\\n",
       "0                       511 John St, Bryan, OH 43506       3.0         1404.0   \n",
       "1                1067 Marlin Dr, Rockledge, FL 32955       3.0         2258.0   \n",
       "2          1136 Sullivan Rd, Apt 15, Ogden, UT 84403       NaN            NaN   \n",
       "3  101 Trinity Lakes Dr, Apt 361, Sun City Center...       NaN            NaN   \n",
       "4        7843 S Euclid Ave, Apt 1, Chicago, IL 60649       6.0         3345.0   \n",
       "\n",
       "   yearBuilt                                           features        county  \\\n",
       "0     1959.0  {'architectureType': 'Conventional', 'cooling'...      Williams   \n",
       "1     1966.0  {'cooling': True, 'coolingType': 'Central', 'e...       Brevard   \n",
       "2        NaN                                                 {}         Weber   \n",
       "3        NaN                                                 {}  Hillsborough   \n",
       "4     1925.0  {'architectureType': 'Two Family', 'cooling': ...          Cook   \n",
       "\n",
       "   ...                                      propertyTaxes lastSalePrice  \\\n",
       "0  ...                          {'2021': {'total': 1799}}      105000.0   \n",
       "1  ...  {'2021': {'total': 1830}, '2022': {'total': 21...      125000.0   \n",
       "2  ...                                                NaN           NaN   \n",
       "3  ...                                                NaN           NaN   \n",
       "4  ...                          {'2020': {'total': 2527}}      225000.0   \n",
       "\n",
       "               lastSaleDate  \\\n",
       "0  2000-10-13T00:00:00.000Z   \n",
       "1  2019-08-13T00:00:00.000Z   \n",
       "2                       NaN   \n",
       "3                       NaN   \n",
       "4  2022-09-23T00:00:00.000Z   \n",
       "\n",
       "                                               owner  \\\n",
       "0  {'names': ['SUSAN JO KERR'], 'mailingAddress':...   \n",
       "1  {'names': ['GYULA L KISS', 'JULIE A KISS'], 'm...   \n",
       "2                                                NaN   \n",
       "3                                                NaN   \n",
       "4  {'names': ['78TH EUCLID LLC,'], 'mailingAddres...   \n",
       "\n",
       "                                                  id   longitude   latitude  \\\n",
       "0                       511-John-St,-Bryan,-OH-43506  -84.570163  41.469595   \n",
       "1                1067-Marlin-Dr,-Rockledge,-FL-32955  -80.746982  28.342440   \n",
       "2          1136-Sullivan-Rd,-Apt-15,-Ogden,-UT-84403 -111.950330  41.204860   \n",
       "3  101-Trinity-Lakes-Dr,-Apt-361,-Sun-City-Center...  -82.355936  27.710284   \n",
       "4        7843-S-Euclid-Ave,-Apt-1,-Chicago,-IL-60649  -87.576879  41.752132   \n",
       "\n",
       "   subdivision  zoning addressLine2  \n",
       "0          NaN     NaN          NaN  \n",
       "1  MARLIN SUBD      R2          NaN  \n",
       "2          NaN     NaN       Apt 15  \n",
       "3          NaN     NaN      Apt 361  \n",
       "4   SOUTHFIELD     NaN        Apt 1  \n",
       "\n",
       "[5 rows x 27 columns]"
      ]
     },
     "execution_count": 9,
     "metadata": {},
     "output_type": "execute_result"
    }
   ],
   "source": [
    "real_estate_df = pd.read_json(r'Zuma-Realtors-Project\\real_estate.json')\n",
    "real_estate_df.head()"
   ]
  },
  {
   "cell_type": "code",
   "execution_count": 10,
   "metadata": {},
   "outputs": [
    {
     "data": {
      "text/plain": [
       "Index(['addressLine1', 'city', 'state', 'zipCode', 'formattedAddress',\n",
       "       'bedrooms', 'squareFootage', 'yearBuilt', 'features', 'county',\n",
       "       'assessorID', 'legalDescription', 'ownerOccupied', 'bathrooms',\n",
       "       'lotSize', 'propertyType', 'taxAssessment', 'propertyTaxes',\n",
       "       'lastSalePrice', 'lastSaleDate', 'owner', 'id', 'longitude', 'latitude',\n",
       "       'subdivision', 'zoning', 'addressLine2'],\n",
       "      dtype='object')"
      ]
     },
     "execution_count": 10,
     "metadata": {},
     "output_type": "execute_result"
    }
   ],
   "source": [
    "real_estate_df.columns"
   ]
  },
  {
   "cell_type": "code",
   "execution_count": 11,
   "metadata": {},
   "outputs": [
    {
     "name": "stdout",
     "output_type": "stream",
     "text": [
      "<class 'pandas.core.frame.DataFrame'>\n",
      "RangeIndex: 500 entries, 0 to 499\n",
      "Data columns (total 27 columns):\n",
      " #   Column            Non-Null Count  Dtype  \n",
      "---  ------            --------------  -----  \n",
      " 0   addressLine1      500 non-null    object \n",
      " 1   city              500 non-null    object \n",
      " 2   state             500 non-null    object \n",
      " 3   zipCode           500 non-null    int64  \n",
      " 4   formattedAddress  500 non-null    object \n",
      " 5   bedrooms          329 non-null    float64\n",
      " 6   squareFootage     387 non-null    float64\n",
      " 7   yearBuilt         342 non-null    float64\n",
      " 8   features          418 non-null    object \n",
      " 9   county            500 non-null    object \n",
      " 10  assessorID        326 non-null    object \n",
      " 11  legalDescription  317 non-null    object \n",
      " 12  ownerOccupied     252 non-null    float64\n",
      " 13  bathrooms         370 non-null    float64\n",
      " 14  lotSize           321 non-null    float64\n",
      " 15  propertyType      416 non-null    object \n",
      " 16  taxAssessment     318 non-null    object \n",
      " 17  propertyTaxes     308 non-null    object \n",
      " 18  lastSalePrice     209 non-null    float64\n",
      " 19  lastSaleDate      278 non-null    object \n",
      " 20  owner             323 non-null    object \n",
      " 21  id                500 non-null    object \n",
      " 22  longitude         500 non-null    float64\n",
      " 23  latitude          500 non-null    float64\n",
      " 24  subdivision       278 non-null    object \n",
      " 25  zoning            170 non-null    object \n",
      " 26  addressLine2      121 non-null    object \n",
      "dtypes: float64(9), int64(1), object(17)\n",
      "memory usage: 105.6+ KB\n"
     ]
    }
   ],
   "source": [
    "real_estate_df.info()"
   ]
  },
  {
   "cell_type": "markdown",
   "metadata": {},
   "source": [
    "### Data Transformation"
   ]
  },
  {
   "cell_type": "code",
   "execution_count": 17,
   "metadata": {},
   "outputs": [],
   "source": [
    "# Replace missing values with appropriate replacements\n",
    "real_estate_df.fillna({\n",
    "    'bedrooms' : 0.0,\n",
    "    'squareFootage': 0.0,\n",
    "    'yearBuilt' : 0.0,\n",
    "    'features' : 'Unknown',\n",
    "    'assessorID' : 'Unknown',\n",
    "    'legalDescription' : 'Unknown',\n",
    "    'ownerOccupied' : 0.0,\n",
    "    'bathrooms' : 0.0,\n",
    "    'lotSize' : 0.0,\n",
    "    'propertyType' : 'Unknown',\n",
    "    'taxAssessment' : 'Unknown',\n",
    "    'propertyTaxes' : 'Unknown',\n",
    "    'lastSalePrice' : 0.0,\n",
    "    'lastSaleDate' : 'Unknown',\n",
    "    'zoning' : 'Unknown',\n",
    "    'addressLine2' : 'Unknown'\n",
    "\n",
    "}, inplace = True)"
   ]
  },
  {
   "cell_type": "code",
   "execution_count": 18,
   "metadata": {},
   "outputs": [
    {
     "name": "stdout",
     "output_type": "stream",
     "text": [
      "<class 'pandas.core.frame.DataFrame'>\n",
      "RangeIndex: 500 entries, 0 to 499\n",
      "Data columns (total 27 columns):\n",
      " #   Column            Non-Null Count  Dtype  \n",
      "---  ------            --------------  -----  \n",
      " 0   addressLine1      500 non-null    object \n",
      " 1   city              500 non-null    object \n",
      " 2   state             500 non-null    object \n",
      " 3   zipCode           500 non-null    int64  \n",
      " 4   formattedAddress  500 non-null    object \n",
      " 5   bedrooms          500 non-null    float64\n",
      " 6   squareFootage     500 non-null    float64\n",
      " 7   yearBuilt         500 non-null    float64\n",
      " 8   features          500 non-null    object \n",
      " 9   county            500 non-null    object \n",
      " 10  assessorID        500 non-null    object \n",
      " 11  legalDescription  500 non-null    object \n",
      " 12  ownerOccupied     500 non-null    float64\n",
      " 13  bathrooms         500 non-null    float64\n",
      " 14  lotSize           500 non-null    float64\n",
      " 15  propertyType      500 non-null    object \n",
      " 16  taxAssessment     500 non-null    object \n",
      " 17  propertyTaxes     500 non-null    object \n",
      " 18  lastSalePrice     500 non-null    float64\n",
      " 19  lastSaleDate      500 non-null    object \n",
      " 20  owner             323 non-null    object \n",
      " 21  id                500 non-null    object \n",
      " 22  longitude         500 non-null    float64\n",
      " 23  latitude          500 non-null    float64\n",
      " 24  subdivision       278 non-null    object \n",
      " 25  zoning            500 non-null    object \n",
      " 26  addressLine2      500 non-null    object \n",
      "dtypes: float64(9), int64(1), object(17)\n",
      "memory usage: 105.6+ KB\n"
     ]
    }
   ],
   "source": [
    "real_estate_df.info()"
   ]
  },
  {
   "cell_type": "code",
   "execution_count": null,
   "metadata": {},
   "outputs": [],
   "source": []
  }
 ],
 "metadata": {
  "kernelspec": {
   "display_name": "base",
   "language": "python",
   "name": "python3"
  },
  "language_info": {
   "codemirror_mode": {
    "name": "ipython",
    "version": 3
   },
   "file_extension": ".py",
   "mimetype": "text/x-python",
   "name": "python",
   "nbconvert_exporter": "python",
   "pygments_lexer": "ipython3",
   "version": "3.12.7"
  }
 },
 "nbformat": 4,
 "nbformat_minor": 2
}
